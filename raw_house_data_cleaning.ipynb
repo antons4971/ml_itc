{
  "cells": [
    {
      "cell_type": "markdown",
      "metadata": {
        "id": "view-in-github",
        "colab_type": "text"
      },
      "source": [
        "<a href=\"https://colab.research.google.com/github/antons4971/ml_itc/blob/main/raw_house_data_cleaning.ipynb\" target=\"_parent\"><img src=\"https://colab.research.google.com/assets/colab-badge.svg\" alt=\"Open In Colab\"/></a>"
      ]
    },
    {
      "cell_type": "code",
      "execution_count": null,
      "id": "8b03acb5",
      "metadata": {
        "id": "8b03acb5"
      },
      "outputs": [],
      "source": [
        "import pandas as pd\n",
        "from collections import Counter\n",
        "import seaborn as sns\n",
        "import numpy as np"
      ]
    },
    {
      "cell_type": "code",
      "execution_count": null,
      "id": "39e0c0f3",
      "metadata": {
        "id": "39e0c0f3"
      },
      "outputs": [],
      "source": [
        "df = pd.read_csv('data.csv')"
      ]
    },
    {
      "cell_type": "markdown",
      "id": "d20408cc",
      "metadata": {
        "id": "d20408cc"
      },
      "source": [
        "## Basic Information"
      ]
    },
    {
      "cell_type": "code",
      "execution_count": null,
      "id": "dc27eb48",
      "metadata": {
        "id": "dc27eb48",
        "outputId": "5024c73b-6e8b-4737-edf7-2af6aa1e9e8f"
      },
      "outputs": [
        {
          "name": "stdout",
          "output_type": "stream",
          "text": [
            "<class 'pandas.core.frame.DataFrame'>\n",
            "RangeIndex: 5000 entries, 0 to 4999\n",
            "Data columns (total 16 columns):\n",
            " #   Column            Non-Null Count  Dtype  \n",
            "---  ------            --------------  -----  \n",
            " 0   MLS               5000 non-null   int64  \n",
            " 1   sold_price        5000 non-null   float64\n",
            " 2   zipcode           5000 non-null   int64  \n",
            " 3   longitude         5000 non-null   float64\n",
            " 4   latitude          5000 non-null   float64\n",
            " 5   lot_acres         4990 non-null   float64\n",
            " 6   taxes             5000 non-null   float64\n",
            " 7   year_built        5000 non-null   int64  \n",
            " 8   bedrooms          5000 non-null   int64  \n",
            " 9   bathrooms         5000 non-null   object \n",
            " 10  sqrt_ft           5000 non-null   object \n",
            " 11  garage            5000 non-null   object \n",
            " 12  kitchen_features  5000 non-null   object \n",
            " 13  fireplaces        4975 non-null   float64\n",
            " 14  floor_covering    5000 non-null   object \n",
            " 15  HOA               5000 non-null   object \n",
            "dtypes: float64(6), int64(4), object(6)\n",
            "memory usage: 625.1+ KB\n"
          ]
        }
      ],
      "source": [
        "df.info()"
      ]
    },
    {
      "cell_type": "markdown",
      "id": "cdca9f0a",
      "metadata": {
        "id": "cdca9f0a"
      },
      "source": [
        "We can see above two columns returning null values by pandas. However, Dtype object below suggests further improper entries as 'object' is the most general python class, meaning these columns include some combination of specific types, which is undesirable. Bathrooms, sqrt_ft and garage should be numeric, these will need fixing. Visual inspection shows the frequent presence of 'None' entered as a string."
      ]
    },
    {
      "cell_type": "code",
      "execution_count": null,
      "id": "7d1358c8",
      "metadata": {
        "id": "7d1358c8",
        "outputId": "f57198d5-fdef-442f-8e10-ecae3600e386"
      },
      "outputs": [
        {
          "name": "stdout",
          "output_type": "stream",
          "text": [
            "MLS False int64\n",
            "sold_price False float64\n",
            "zipcode False int64\n",
            "longitude False float64\n",
            "latitude False float64\n",
            "lot_acres False float64\n",
            "taxes False float64\n",
            "year_built False int64\n",
            "bedrooms False int64\n",
            "bathrooms True object\n",
            "sqrt_ft True object\n",
            "garage True object\n",
            "kitchen_features True object\n",
            "fireplaces False float64\n",
            "floor_covering True object\n",
            "HOA True object\n"
          ]
        }
      ],
      "source": [
        "for column in df:\n",
        "    print(column, df[column].isin(['None']).any(), df[column].dtype)\n",
        "    \"\"\"for entry in df[column]:\n",
        "        print(type(entry), entry)\"\"\""
      ]
    },
    {
      "cell_type": "code",
      "execution_count": null,
      "id": "00aa431b",
      "metadata": {
        "scrolled": true,
        "id": "00aa431b",
        "outputId": "df91f3b5-60ec-46e1-fb57-2ebeeb2429c3"
      },
      "outputs": [
        {
          "name": "stdout",
          "output_type": "stream",
          "text": [
            "<class 'pandas.core.series.Series'>\n",
            "Index: 20 entries, 3 to 36\n",
            "Series name: bathrooms\n",
            "Non-Null Count  Dtype\n",
            "--------------  -----\n",
            "20 non-null     int64\n",
            "dtypes: int64(1)\n",
            "memory usage: 320.0+ bytes\n",
            "None\n",
            "<class 'pandas.core.series.Series'>\n",
            "Index: 2362 entries, None to 1772\n",
            "Series name: sqrt_ft\n",
            "Non-Null Count  Dtype\n",
            "--------------  -----\n",
            "2362 non-null   int64\n",
            "dtypes: int64(1)\n",
            "memory usage: 36.9+ KB\n",
            "None\n",
            "<class 'pandas.core.series.Series'>\n",
            "Index: 22 entries, 3 to 13\n",
            "Series name: garage\n",
            "Non-Null Count  Dtype\n",
            "--------------  -----\n",
            "22 non-null     int64\n",
            "dtypes: int64(1)\n",
            "memory usage: 352.0+ bytes\n",
            "None\n",
            "<class 'pandas.core.series.Series'>\n",
            "Index: 1872 entries, Dishwasher, Garbage Disposal, Refrigerator, Microwave, Oven to Compactor, Dishwasher, Double Sink, Island, Appliance Color: Stainless\n",
            "Series name: kitchen_features\n",
            "Non-Null Count  Dtype\n",
            "--------------  -----\n",
            "1872 non-null   int64\n",
            "dtypes: int64(1)\n",
            "memory usage: 29.2+ KB\n",
            "None\n",
            "<class 'pandas.core.series.Series'>\n",
            "Index: 311 entries, Carpet, Ceramic Tile to Concrete, Other: Cork\n",
            "Series name: floor_covering\n",
            "Non-Null Count  Dtype\n",
            "--------------  -----\n",
            "311 non-null    int64\n",
            "dtypes: int64(1)\n",
            "memory usage: 4.9+ KB\n",
            "None\n",
            "<class 'pandas.core.series.Series'>\n",
            "Index: 381 entries, 0 to 78.65\n",
            "Series name: HOA\n",
            "Non-Null Count  Dtype\n",
            "--------------  -----\n",
            "381 non-null    int64\n",
            "dtypes: int64(1)\n",
            "memory usage: 6.0+ KB\n",
            "None\n"
          ]
        }
      ],
      "source": [
        "for column in df:\n",
        "    if df[column].dtype == 'object':\n",
        "        series = df[column].value_counts()\n",
        "        print(series.info())"
      ]
    },
    {
      "cell_type": "code",
      "execution_count": null,
      "id": "b03861f2",
      "metadata": {
        "id": "b03861f2"
      },
      "outputs": [],
      "source": [
        ""
      ]
    },
    {
      "cell_type": "markdown",
      "id": "c17a7bfd",
      "metadata": {
        "id": "c17a7bfd"
      },
      "source": [
        "## Sold Price"
      ]
    },
    {
      "cell_type": "code",
      "execution_count": null,
      "id": "f9289ead",
      "metadata": {
        "id": "f9289ead",
        "outputId": "fd41553f-b1e1-49c9-a750-7d7bb4658d3c"
      },
      "outputs": [
        {
          "data": {
            "text/plain": [
              "<AxesSubplot:xlabel='sold_price'>"
            ]
          },
          "execution_count": 106,
          "metadata": {},
          "output_type": "execute_result"
        },
        {
          "data": {
            "image/png": "[encoded data removed]",
            "text/plain": [
              "<Figure size 432x288 with 1 Axes>"
            ]
          },
          "metadata": {
            "needs_background": "light"
          },
          "output_type": "display_data"
        }
      ],
      "source": [
        "sns.boxplot(x=df['sold_price'])"
      ]
    },
    {
      "cell_type": "markdown",
      "id": "d2bc00c2",
      "metadata": {
        "id": "d2bc00c2"
      },
      "source": [
        "As expected"
      ]
    },
    {
      "cell_type": "markdown",
      "id": "cd62a60f",
      "metadata": {
        "id": "cd62a60f"
      },
      "source": [
        "## Location"
      ]
    },
    {
      "cell_type": "code",
      "execution_count": null,
      "id": "bc0291df",
      "metadata": {
        "id": "bc0291df",
        "outputId": "85a5858e-4d7d-4a9d-97b0-00264a95351e"
      },
      "outputs": [
        {
          "data": {
            "text/plain": [
              "<AxesSubplot:xlabel='zipcode'>"
            ]
          },
          "execution_count": 107,
          "metadata": {},
          "output_type": "execute_result"
        },
        {
          "data": {
            "image/png": "[encoded data removed]",
            "text/plain": [
              "<Figure size 432x288 with 1 Axes>"
            ]
          },
          "metadata": {
            "needs_background": "light"
          },
          "output_type": "display_data"
        }
      ],
      "source": [
        "sns.boxplot(x=df['zipcode'])"
      ]
    },
    {
      "cell_type": "code",
      "execution_count": null,
      "id": "bdf90c8b",
      "metadata": {
        "id": "bdf90c8b",
        "outputId": "c9b4ddbf-9442-4b0f-8627-8ae846acadec"
      },
      "outputs": [
        {
          "data": {
            "text/plain": [
              "<AxesSubplot:xlabel='latitude'>"
            ]
          },
          "execution_count": 108,
          "metadata": {},
          "output_type": "execute_result"
        },
        {
          "data": {
            "image/png": "[encoded data removed]",
            "text/plain": [
              "<Figure size 432x288 with 1 Axes>"
            ]
          },
          "metadata": {
            "needs_background": "light"
          },
          "output_type": "display_data"
        }
      ],
      "source": [
        "sns.boxplot(x=df['latitude'])"
      ]
    },
    {
      "cell_type": "code",
      "execution_count": null,
      "id": "0fcef066",
      "metadata": {
        "id": "0fcef066",
        "outputId": "270a2f34-2292-4446-b799-310124deb2a1"
      },
      "outputs": [
        {
          "data": {
            "text/plain": [
              "<AxesSubplot:xlabel='longitude'>"
            ]
          },
          "execution_count": 109,
          "metadata": {},
          "output_type": "execute_result"
        },
        {
          "data": {
            "image/png": "[encoded data removed]",
            "text/plain": [
              "<Figure size 432x288 with 1 Axes>"
            ]
          },
          "metadata": {
            "needs_background": "light"
          },
          "output_type": "display_data"
        }
      ],
      "source": [
        "sns.boxplot(x=df['longitude'])"
      ]
    },
    {
      "cell_type": "markdown",
      "id": "d70e4535",
      "metadata": {
        "id": "d70e4535"
      },
      "source": [
        "None of the above are unreasonable, proximity of values does not suggest entry error."
      ]
    },
    {
      "cell_type": "code",
      "execution_count": null,
      "id": "573ce113",
      "metadata": {
        "id": "573ce113"
      },
      "outputs": [],
      "source": [
        ""
      ]
    },
    {
      "cell_type": "markdown",
      "id": "8f68ba0b",
      "metadata": {
        "id": "8f68ba0b"
      },
      "source": [
        "## Lot Acres"
      ]
    },
    {
      "cell_type": "markdown",
      "id": "de61201d",
      "metadata": {
        "id": "de61201d"
      },
      "source": [
        "This could probably be effectively predicted by a simple regression using inputs such as tax, sold_price, number of bedrooms and bathrooms etc. But as we are only missing ten values, this would not be worthwhile."
      ]
    },
    {
      "cell_type": "code",
      "execution_count": null,
      "id": "fecf3e36",
      "metadata": {
        "id": "fecf3e36",
        "outputId": "35b4e282-cd10-4cba-ad96-e095977e376d"
      },
      "outputs": [
        {
          "data": {
            "text/plain": [
              "<AxesSubplot:xlabel='lot_acres'>"
            ]
          },
          "execution_count": 110,
          "metadata": {},
          "output_type": "execute_result"
        },
        {
          "data": {
            "image/png": "[encoded data removed]",
            "text/plain": [
              "<Figure size 432x288 with 1 Axes>"
            ]
          },
          "metadata": {
            "needs_background": "light"
          },
          "output_type": "display_data"
        }
      ],
      "source": [
        "sns.boxplot(x=df['lot_acres'])"
      ]
    },
    {
      "cell_type": "markdown",
      "id": "6a1b6c32",
      "metadata": {
        "id": "6a1b6c32"
      },
      "source": [
        "Under a skewed distribution, average imputation could be highly distortive, the rows were dropped instead. Working on later columns, I determined that these dropped rows also contain errors in other columns, even more strongly justifying the decision."
      ]
    },
    {
      "cell_type": "code",
      "execution_count": null,
      "id": "6f63a57c",
      "metadata": {
        "id": "6f63a57c"
      },
      "outputs": [],
      "source": [
        "df = df.drop(df[df['lot_acres'].isnull()].index.tolist())"
      ]
    },
    {
      "cell_type": "code",
      "execution_count": null,
      "id": "81209552",
      "metadata": {
        "id": "81209552",
        "outputId": "30a80eb4-018c-4a03-e32a-f7c88879feb0"
      },
      "outputs": [
        {
          "data": {
            "text/plain": [
              "4990"
            ]
          },
          "execution_count": 113,
          "metadata": {},
          "output_type": "execute_result"
        }
      ],
      "source": [
        "len(df)"
      ]
    },
    {
      "cell_type": "markdown",
      "id": "3201abdb",
      "metadata": {
        "id": "3201abdb"
      },
      "source": [
        "## Taxes"
      ]
    },
    {
      "cell_type": "code",
      "execution_count": null,
      "id": "0873856e",
      "metadata": {
        "id": "0873856e",
        "outputId": "177a66b8-a0fd-4493-8d84-ca2398aa7e27"
      },
      "outputs": [
        {
          "data": {
            "text/plain": [
              "<AxesSubplot:xlabel='taxes'>"
            ]
          },
          "execution_count": 114,
          "metadata": {},
          "output_type": "execute_result"
        },
        {
          "data": {
            "image/png": "[encoded data removed]",
            "text/plain": [
              "<Figure size 432x288 with 1 Axes>"
            ]
          },
          "metadata": {
            "needs_background": "light"
          },
          "output_type": "display_data"
        }
      ],
      "source": [
        "sns.boxplot(x=df['taxes'])"
      ]
    },
    {
      "cell_type": "markdown",
      "id": "9b969806",
      "metadata": {
        "id": "9b969806"
      },
      "source": [
        "One clear error, due to heavy-tailed distribution, this entry will be removed."
      ]
    },
    {
      "cell_type": "code",
      "execution_count": null,
      "id": "fd304343",
      "metadata": {
        "id": "fd304343"
      },
      "outputs": [],
      "source": [
        "df = df.drop(df[df['taxes'] > 10000000].index)"
      ]
    },
    {
      "cell_type": "code",
      "execution_count": null,
      "id": "f3ecf8d8",
      "metadata": {
        "id": "f3ecf8d8",
        "outputId": "c69c590b-582d-4692-e016-96d7fcf33b77"
      },
      "outputs": [
        {
          "data": {
            "text/plain": [
              "4989"
            ]
          },
          "execution_count": 116,
          "metadata": {},
          "output_type": "execute_result"
        }
      ],
      "source": [
        "len(df)"
      ]
    },
    {
      "cell_type": "code",
      "execution_count": null,
      "id": "6bc8b77c",
      "metadata": {
        "id": "6bc8b77c",
        "outputId": "860bf40f-9f8b-4ee8-ec63-4075e8f233ad"
      },
      "outputs": [
        {
          "data": {
            "text/plain": [
              "<AxesSubplot:xlabel='taxes'>"
            ]
          },
          "execution_count": 117,
          "metadata": {},
          "output_type": "execute_result"
        },
        {
          "data": {
            "image/png": "[encoded data removed]",
            "text/plain": [
              "<Figure size 432x288 with 1 Axes>"
            ]
          },
          "metadata": {
            "needs_background": "light"
          },
          "output_type": "display_data"
        }
      ],
      "source": [
        "sns.boxplot(x=df['taxes'])"
      ]
    },
    {
      "cell_type": "markdown",
      "id": "9f71c6a4",
      "metadata": {
        "id": "9f71c6a4"
      },
      "source": [
        "An additional value strongly appears to be an error."
      ]
    },
    {
      "cell_type": "code",
      "execution_count": null,
      "id": "ee638555",
      "metadata": {
        "id": "ee638555"
      },
      "outputs": [],
      "source": [
        "df = df.drop(df[df['taxes'] > 600000].index)\n"
      ]
    },
    {
      "cell_type": "code",
      "execution_count": null,
      "id": "22c0f450",
      "metadata": {
        "id": "22c0f450",
        "outputId": "37fdb559-74a9-421e-ba96-bc08ed00cfdb"
      },
      "outputs": [
        {
          "data": {
            "text/plain": [
              "4988"
            ]
          },
          "execution_count": 119,
          "metadata": {},
          "output_type": "execute_result"
        }
      ],
      "source": [
        "len(df)"
      ]
    },
    {
      "cell_type": "code",
      "execution_count": null,
      "id": "bd7ba53e",
      "metadata": {
        "id": "bd7ba53e",
        "outputId": "c435d56d-42fe-4a94-88c7-8fe47dfa88e5"
      },
      "outputs": [
        {
          "data": {
            "text/plain": [
              "<AxesSubplot:xlabel='taxes'>"
            ]
          },
          "execution_count": 120,
          "metadata": {},
          "output_type": "execute_result"
        },
        {
          "data": {
            "image/png": "[encoded data removed]",
            "text/plain": [
              "<Figure size 432x288 with 1 Axes>"
            ]
          },
          "metadata": {
            "needs_background": "light"
          },
          "output_type": "display_data"
        }
      ],
      "source": [
        "sns.boxplot(x=df['taxes'])"
      ]
    },
    {
      "cell_type": "markdown",
      "id": "fa1030db",
      "metadata": {
        "id": "fa1030db"
      },
      "source": [
        "This looks reasonable"
      ]
    },
    {
      "cell_type": "markdown",
      "id": "deb1b09d",
      "metadata": {
        "id": "deb1b09d"
      },
      "source": [
        "## Year Built"
      ]
    },
    {
      "cell_type": "code",
      "execution_count": null,
      "id": "2cc788d8",
      "metadata": {
        "id": "2cc788d8",
        "outputId": "37275b06-5f7b-463f-b78f-5ac7800f2e32"
      },
      "outputs": [
        {
          "data": {
            "text/plain": [
              "<AxesSubplot:xlabel='year_built'>"
            ]
          },
          "execution_count": 121,
          "metadata": {},
          "output_type": "execute_result"
        },
        {
          "data": {
            "image/png": "[encoded data removed]",
            "text/plain": [
              "<Figure size 432x288 with 1 Axes>"
            ]
          },
          "metadata": {
            "needs_background": "light"
          },
          "output_type": "display_data"
        }
      ],
      "source": [
        "sns.boxplot(x=df['year_built'])"
      ]
    },
    {
      "cell_type": "markdown",
      "id": "871ad4f7",
      "metadata": {
        "id": "871ad4f7"
      },
      "source": [
        "'0' value clearly an error, mean imputation is reasonable due to fairly uniform distribution of values and small number of errors."
      ]
    },
    {
      "cell_type": "code",
      "execution_count": null,
      "id": "82e056d5",
      "metadata": {
        "id": "82e056d5",
        "outputId": "a4a9ee07-ee59-4e46-a87c-3b54e5da7c4d"
      },
      "outputs": [
        {
          "data": {
            "text/html": [
              "<div>\n",
              "<style scoped>\n",
              "    .dataframe tbody tr th:only-of-type {\n",
              "        vertical-align: middle;\n",
              "    }\n",
              "\n",
              "    .dataframe tbody tr th {\n",
              "        vertical-align: top;\n",
              "    }\n",
              "\n",
              "    .dataframe thead th {\n",
              "        text-align: right;\n",
              "    }\n",
              "</style>\n",
              "<table border=\"1\" class=\"dataframe\">\n",
              "  <thead>\n",
              "    <tr style=\"text-align: right;\">\n",
              "      <th></th>\n",
              "      <th>MLS</th>\n",
              "      <th>sold_price</th>\n",
              "      <th>zipcode</th>\n",
              "      <th>longitude</th>\n",
              "      <th>latitude</th>\n",
              "      <th>lot_acres</th>\n",
              "      <th>taxes</th>\n",
              "      <th>year_built</th>\n",
              "      <th>bedrooms</th>\n",
              "      <th>bathrooms</th>\n",
              "      <th>sqrt_ft</th>\n",
              "      <th>garage</th>\n",
              "      <th>kitchen_features</th>\n",
              "      <th>fireplaces</th>\n",
              "      <th>floor_covering</th>\n",
              "      <th>HOA</th>\n",
              "    </tr>\n",
              "  </thead>\n",
              "  <tbody>\n",
              "    <tr>\n",
              "      <th>35</th>\n",
              "      <td>21307177</td>\n",
              "      <td>2495000.0</td>\n",
              "      <td>85637</td>\n",
              "      <td>-110.740635</td>\n",
              "      <td>31.720431</td>\n",
              "      <td>131.00</td>\n",
              "      <td>1220.32</td>\n",
              "      <td>0</td>\n",
              "      <td>13</td>\n",
              "      <td>15</td>\n",
              "      <td>13000</td>\n",
              "      <td>0</td>\n",
              "      <td>Compactor, Dishwasher, Freezer, Garbage Dispos...</td>\n",
              "      <td>4.0</td>\n",
              "      <td>Carpet, Ceramic Tile, Mexican Tile</td>\n",
              "      <td>0</td>\n",
              "    </tr>\n",
              "    <tr>\n",
              "      <th>162</th>\n",
              "      <td>21207587</td>\n",
              "      <td>1210520.0</td>\n",
              "      <td>85658</td>\n",
              "      <td>-111.101588</td>\n",
              "      <td>32.468488</td>\n",
              "      <td>0.33</td>\n",
              "      <td>1412.75</td>\n",
              "      <td>0</td>\n",
              "      <td>4</td>\n",
              "      <td>5</td>\n",
              "      <td>3334</td>\n",
              "      <td>2</td>\n",
              "      <td>Dishwasher, Refrigerator, Microwave, Oven</td>\n",
              "      <td>3.0</td>\n",
              "      <td>Carpet, Natural Stone, Wood</td>\n",
              "      <td>550</td>\n",
              "    </tr>\n",
              "    <tr>\n",
              "      <th>946</th>\n",
              "      <td>21608590</td>\n",
              "      <td>695000.0</td>\n",
              "      <td>85645</td>\n",
              "      <td>-111.183593</td>\n",
              "      <td>31.702330</td>\n",
              "      <td>72.00</td>\n",
              "      <td>2480.58</td>\n",
              "      <td>0</td>\n",
              "      <td>4</td>\n",
              "      <td>4</td>\n",
              "      <td>2272</td>\n",
              "      <td>2</td>\n",
              "      <td>Dishwasher, Refrigerator, Oven</td>\n",
              "      <td>2.0</td>\n",
              "      <td>Ceramic Tile</td>\n",
              "      <td>0</td>\n",
              "    </tr>\n",
              "    <tr>\n",
              "      <th>1438</th>\n",
              "      <td>21702126</td>\n",
              "      <td>877170.0</td>\n",
              "      <td>85755</td>\n",
              "      <td>-110.977158</td>\n",
              "      <td>32.459429</td>\n",
              "      <td>0.60</td>\n",
              "      <td>2005.57</td>\n",
              "      <td>0</td>\n",
              "      <td>3</td>\n",
              "      <td>4</td>\n",
              "      <td>3078</td>\n",
              "      <td>3</td>\n",
              "      <td>Dishwasher, Garbage Disposal, Microwave, Oven</td>\n",
              "      <td>0.0</td>\n",
              "      <td>Other</td>\n",
              "      <td>167</td>\n",
              "    </tr>\n",
              "    <tr>\n",
              "      <th>1767</th>\n",
              "      <td>21719857</td>\n",
              "      <td>700000.0</td>\n",
              "      <td>85701</td>\n",
              "      <td>-110.963672</td>\n",
              "      <td>32.216996</td>\n",
              "      <td>0.13</td>\n",
              "      <td>7059.56</td>\n",
              "      <td>0</td>\n",
              "      <td>3</td>\n",
              "      <td>3</td>\n",
              "      <td>2500</td>\n",
              "      <td>3</td>\n",
              "      <td>Dishwasher, Electric Range, Garbage Disposal, ...</td>\n",
              "      <td>0.0</td>\n",
              "      <td>Other: Recycled Porcelain</td>\n",
              "      <td>74</td>\n",
              "    </tr>\n",
              "  </tbody>\n",
              "</table>\n",
              "</div>"
            ],
            "text/plain": [
              "           MLS  sold_price  zipcode   longitude   latitude  lot_acres  \\\n",
              "35    21307177   2495000.0    85637 -110.740635  31.720431     131.00   \n",
              "162   21207587   1210520.0    85658 -111.101588  32.468488       0.33   \n",
              "946   21608590    695000.0    85645 -111.183593  31.702330      72.00   \n",
              "1438  21702126    877170.0    85755 -110.977158  32.459429       0.60   \n",
              "1767  21719857    700000.0    85701 -110.963672  32.216996       0.13   \n",
              "\n",
              "        taxes  year_built  bedrooms bathrooms sqrt_ft garage  \\\n",
              "35    1220.32           0        13        15   13000      0   \n",
              "162   1412.75           0         4         5    3334      2   \n",
              "946   2480.58           0         4         4    2272      2   \n",
              "1438  2005.57           0         3         4    3078      3   \n",
              "1767  7059.56           0         3         3    2500      3   \n",
              "\n",
              "                                       kitchen_features  fireplaces  \\\n",
              "35    Compactor, Dishwasher, Freezer, Garbage Dispos...         4.0   \n",
              "162           Dishwasher, Refrigerator, Microwave, Oven         3.0   \n",
              "946                      Dishwasher, Refrigerator, Oven         2.0   \n",
              "1438      Dishwasher, Garbage Disposal, Microwave, Oven         0.0   \n",
              "1767  Dishwasher, Electric Range, Garbage Disposal, ...         0.0   \n",
              "\n",
              "                          floor_covering  HOA  \n",
              "35    Carpet, Ceramic Tile, Mexican Tile    0  \n",
              "162          Carpet, Natural Stone, Wood  550  \n",
              "946                         Ceramic Tile    0  \n",
              "1438                               Other  167  \n",
              "1767           Other: Recycled Porcelain   74  "
            ]
          },
          "execution_count": 122,
          "metadata": {},
          "output_type": "execute_result"
        }
      ],
      "source": [
        "df[df['year_built'] == 0]"
      ]
    },
    {
      "cell_type": "code",
      "execution_count": null,
      "id": "f317b1d4",
      "metadata": {
        "id": "f317b1d4",
        "outputId": "557c8e56-9c35-4fd4-c742-2c99ae723ca6"
      },
      "outputs": [
        {
          "data": {
            "text/plain": [
              "1994.3144691952639"
            ]
          },
          "execution_count": 123,
          "metadata": {},
          "output_type": "execute_result"
        }
      ],
      "source": [
        "df['year_built'].loc[df['year_built'] != 0].mean()"
      ]
    },
    {
      "cell_type": "code",
      "execution_count": null,
      "id": "e313e244",
      "metadata": {
        "id": "e313e244"
      },
      "outputs": [],
      "source": [
        "df['year_built'] = df['year_built'].replace(0,1994)"
      ]
    },
    {
      "cell_type": "code",
      "execution_count": null,
      "id": "1291261a",
      "metadata": {
        "scrolled": true,
        "id": "1291261a",
        "outputId": "7b2cc53e-969f-4935-b2ec-11d849ab4cb7"
      },
      "outputs": [
        {
          "data": {
            "text/plain": [
              "<AxesSubplot:xlabel='year_built'>"
            ]
          },
          "execution_count": 125,
          "metadata": {},
          "output_type": "execute_result"
        },
        {
          "data": {
            "image/png": "[encoded data removed]",
            "text/plain": [
              "<Figure size 432x288 with 1 Axes>"
            ]
          },
          "metadata": {
            "needs_background": "light"
          },
          "output_type": "display_data"
        }
      ],
      "source": [
        "sns.boxplot(x=df['year_built'])"
      ]
    },
    {
      "cell_type": "markdown",
      "id": "ef18a8b5",
      "metadata": {
        "id": "ef18a8b5"
      },
      "source": [
        "## Bedrooms"
      ]
    },
    {
      "cell_type": "code",
      "execution_count": null,
      "id": "02cd760e",
      "metadata": {
        "id": "02cd760e",
        "outputId": "383a4231-6b4f-4fca-d5a0-c5cc8207017e"
      },
      "outputs": [
        {
          "data": {
            "text/plain": [
              "4     2384\n",
              "3     1399\n",
              "5      869\n",
              "2      163\n",
              "6      114\n",
              "7       32\n",
              "8        8\n",
              "1        4\n",
              "9        3\n",
              "10       3\n",
              "36       3\n",
              "13       2\n",
              "11       2\n",
              "19       1\n",
              "18       1\n",
              "Name: bedrooms, dtype: int64"
            ]
          },
          "execution_count": 126,
          "metadata": {},
          "output_type": "execute_result"
        }
      ],
      "source": [
        "df['bedrooms'].value_counts()"
      ]
    },
    {
      "cell_type": "markdown",
      "id": "3fb94ecf",
      "metadata": {
        "id": "3fb94ecf"
      },
      "source": [
        "Appears reasonable, very likely including commercial properties"
      ]
    },
    {
      "cell_type": "markdown",
      "id": "df0dd10b",
      "metadata": {
        "id": "df0dd10b"
      },
      "source": [
        "## Bathrooms"
      ]
    },
    {
      "cell_type": "code",
      "execution_count": null,
      "id": "4ce090c9",
      "metadata": {
        "id": "4ce090c9"
      },
      "outputs": [],
      "source": [
        "df['bathrooms'] = df['bathrooms'].replace('None', 0) #is this acceptable?"
      ]
    },
    {
      "cell_type": "code",
      "execution_count": null,
      "id": "bd5cf7b9",
      "metadata": {
        "id": "bd5cf7b9"
      },
      "outputs": [],
      "source": [
        "df['bathrooms'] = df['bathrooms'].astype('float')"
      ]
    },
    {
      "cell_type": "code",
      "execution_count": null,
      "id": "84c2729a",
      "metadata": {
        "scrolled": true,
        "id": "84c2729a"
      },
      "outputs": [],
      "source": [
        "df['bathrooms'] = df['bathrooms'].apply(np.floor)"
      ]
    },
    {
      "cell_type": "code",
      "execution_count": null,
      "id": "5659c70f",
      "metadata": {
        "scrolled": true,
        "id": "5659c70f"
      },
      "outputs": [],
      "source": [
        "df['bathrooms'] = df['bathrooms'].astype('int')"
      ]
    },
    {
      "cell_type": "code",
      "execution_count": null,
      "id": "a6e86990",
      "metadata": {
        "id": "a6e86990",
        "outputId": "a2cbe65d-4b92-49c7-94c2-a83e01dc3fa9"
      },
      "outputs": [
        {
          "data": {
            "text/plain": [
              "3     1997\n",
              "4     1835\n",
              "5      654\n",
              "6      207\n",
              "2      191\n",
              "7       58\n",
              "8       19\n",
              "9        8\n",
              "0        6\n",
              "1        3\n",
              "35       3\n",
              "11       2\n",
              "10       1\n",
              "15       1\n",
              "14       1\n",
              "18       1\n",
              "36       1\n",
              "Name: bathrooms, dtype: int64"
            ]
          },
          "execution_count": 131,
          "metadata": {},
          "output_type": "execute_result"
        }
      ],
      "source": [
        "df['bathrooms'].value_counts()"
      ]
    },
    {
      "cell_type": "code",
      "execution_count": null,
      "id": "ae9e3396",
      "metadata": {
        "id": "ae9e3396",
        "outputId": "50cc5b05-21a9-4556-e9cc-3e6e1f5c59ea"
      },
      "outputs": [
        {
          "data": {
            "text/plain": [
              "1205"
            ]
          },
          "execution_count": 132,
          "metadata": {},
          "output_type": "execute_result"
        }
      ],
      "source": [
        "len(df[df['bathrooms']>df['bedrooms']])"
      ]
    },
    {
      "cell_type": "markdown",
      "id": "e3fa8675",
      "metadata": {
        "id": "e3fa8675"
      },
      "source": [
        "Presumably alot of non-residential buildings based on below."
      ]
    },
    {
      "cell_type": "code",
      "execution_count": null,
      "id": "f9924e62",
      "metadata": {
        "id": "f9924e62",
        "outputId": "fc1c3ed2-adc5-4bd6-85a8-f6f4a59b8a22"
      },
      "outputs": [
        {
          "data": {
            "text/html": [
              "<div>\n",
              "<style scoped>\n",
              "    .dataframe tbody tr th:only-of-type {\n",
              "        vertical-align: middle;\n",
              "    }\n",
              "\n",
              "    .dataframe tbody tr th {\n",
              "        vertical-align: top;\n",
              "    }\n",
              "\n",
              "    .dataframe thead th {\n",
              "        text-align: right;\n",
              "    }\n",
              "</style>\n",
              "<table border=\"1\" class=\"dataframe\">\n",
              "  <thead>\n",
              "    <tr style=\"text-align: right;\">\n",
              "      <th></th>\n",
              "      <th>MLS</th>\n",
              "      <th>sold_price</th>\n",
              "      <th>zipcode</th>\n",
              "      <th>longitude</th>\n",
              "      <th>latitude</th>\n",
              "      <th>lot_acres</th>\n",
              "      <th>taxes</th>\n",
              "      <th>year_built</th>\n",
              "      <th>bedrooms</th>\n",
              "      <th>bathrooms</th>\n",
              "      <th>sqrt_ft</th>\n",
              "      <th>garage</th>\n",
              "      <th>kitchen_features</th>\n",
              "      <th>fireplaces</th>\n",
              "      <th>floor_covering</th>\n",
              "      <th>HOA</th>\n",
              "    </tr>\n",
              "  </thead>\n",
              "  <tbody>\n",
              "    <tr>\n",
              "      <th>4663</th>\n",
              "      <td>21832887</td>\n",
              "      <td>575359.5</td>\n",
              "      <td>85641</td>\n",
              "      <td>-110.687945</td>\n",
              "      <td>32.081978</td>\n",
              "      <td>1.07</td>\n",
              "      <td>625.0</td>\n",
              "      <td>2019</td>\n",
              "      <td>5</td>\n",
              "      <td>36</td>\n",
              "      <td>3720</td>\n",
              "      <td>3</td>\n",
              "      <td>Dishwasher, Double Sink, Garbage Disposal, Gas...</td>\n",
              "      <td>1.0</td>\n",
              "      <td>Carpet, Ceramic Tile</td>\n",
              "      <td>None</td>\n",
              "    </tr>\n",
              "  </tbody>\n",
              "</table>\n",
              "</div>"
            ],
            "text/plain": [
              "           MLS  sold_price  zipcode   longitude   latitude  lot_acres  taxes  \\\n",
              "4663  21832887    575359.5    85641 -110.687945  32.081978       1.07  625.0   \n",
              "\n",
              "      year_built  bedrooms  bathrooms sqrt_ft garage  \\\n",
              "4663        2019         5         36    3720      3   \n",
              "\n",
              "                                       kitchen_features  fireplaces  \\\n",
              "4663  Dishwasher, Double Sink, Garbage Disposal, Gas...         1.0   \n",
              "\n",
              "            floor_covering   HOA  \n",
              "4663  Carpet, Ceramic Tile  None  "
            ]
          },
          "execution_count": 133,
          "metadata": {},
          "output_type": "execute_result"
        }
      ],
      "source": [
        "df[df['bathrooms']>df['bedrooms']+4]"
      ]
    },
    {
      "cell_type": "markdown",
      "id": "2cbc2946",
      "metadata": {
        "id": "2cbc2946"
      },
      "source": [
        "## Square Route of Square Feet"
      ]
    },
    {
      "cell_type": "code",
      "execution_count": null,
      "id": "7bc59ddf",
      "metadata": {
        "id": "7bc59ddf",
        "outputId": "5e1bff77-7ec8-4ec9-db48-47314e5faae8"
      },
      "outputs": [
        {
          "data": {
            "text/plain": [
              "46"
            ]
          },
          "execution_count": 134,
          "metadata": {},
          "output_type": "execute_result"
        }
      ],
      "source": [
        "len(df[df['sqrt_ft']=='None'])"
      ]
    },
    {
      "cell_type": "code",
      "execution_count": null,
      "id": "5d0dba9d",
      "metadata": {
        "scrolled": true,
        "id": "5d0dba9d",
        "outputId": "3dfc5ff3-505e-47a4-c2e5-fcce44bcf93c"
      },
      "outputs": [
        {
          "data": {
            "text/plain": [
              "3541    50\n",
              "None    46\n",
              "3052    25\n",
              "3420    18\n",
              "3811    16\n",
              "        ..\n",
              "4362     1\n",
              "5586     1\n",
              "5117     1\n",
              "3793     1\n",
              "1772     1\n",
              "Name: sqrt_ft, Length: 2361, dtype: int64"
            ]
          },
          "execution_count": 135,
          "metadata": {},
          "output_type": "execute_result"
        }
      ],
      "source": [
        "df['sqrt_ft'].value_counts()"
      ]
    },
    {
      "cell_type": "code",
      "execution_count": null,
      "id": "0cb015b0",
      "metadata": {
        "id": "0cb015b0"
      },
      "outputs": [],
      "source": [
        "mean = df['sqrt_ft'][df['sqrt_ft']!='None'].astype('float').mean()"
      ]
    },
    {
      "cell_type": "code",
      "execution_count": null,
      "id": "2595aabe",
      "metadata": {
        "id": "2595aabe"
      },
      "outputs": [],
      "source": [
        "df['sqrt_ft'] = df['sqrt_ft'].replace('None', mean)"
      ]
    },
    {
      "cell_type": "code",
      "execution_count": null,
      "id": "56d03b71",
      "metadata": {
        "id": "56d03b71"
      },
      "outputs": [],
      "source": [
        "df['sqrt_ft'] = df['sqrt_ft'].astype('float')"
      ]
    },
    {
      "cell_type": "code",
      "execution_count": null,
      "id": "b3029e4a",
      "metadata": {
        "id": "b3029e4a",
        "outputId": "d53f22f8-a3fb-4d4a-8bde-bc642e8d03f3"
      },
      "outputs": [
        {
          "data": {
            "text/plain": [
              "<AxesSubplot:xlabel='sqrt_ft'>"
            ]
          },
          "execution_count": 139,
          "metadata": {},
          "output_type": "execute_result"
        },
        {
          "data": {
            "image/png": "[encoded data removed]",
            "text/plain": [
              "<Figure size 432x288 with 1 Axes>"
            ]
          },
          "metadata": {
            "needs_background": "light"
          },
          "output_type": "display_data"
        }
      ],
      "source": [
        "sns.boxplot(x=df['sqrt_ft'])"
      ]
    },
    {
      "cell_type": "code",
      "execution_count": null,
      "id": "8e949dc8",
      "metadata": {
        "scrolled": true,
        "id": "8e949dc8"
      },
      "outputs": [],
      "source": [
        "df = df.drop(df[df['sqrt_ft'] > 15000].index)"
      ]
    },
    {
      "cell_type": "code",
      "execution_count": null,
      "id": "3d31065c",
      "metadata": {
        "id": "3d31065c"
      },
      "outputs": [],
      "source": [
        "#df = df.drop(['sqrt_ft'], axis = 1)"
      ]
    },
    {
      "cell_type": "code",
      "execution_count": null,
      "id": "ae55f9eb",
      "metadata": {
        "id": "ae55f9eb",
        "outputId": "0f1105bf-df7b-414f-81a3-9cb9acdac860"
      },
      "outputs": [
        {
          "data": {
            "text/plain": [
              "<AxesSubplot:xlabel='sqrt_ft'>"
            ]
          },
          "execution_count": 142,
          "metadata": {},
          "output_type": "execute_result"
        },
        {
          "data": {
            "image/png": "[encoded data removed]",
            "text/plain": [
              "<Figure size 432x288 with 1 Axes>"
            ]
          },
          "metadata": {
            "needs_background": "light"
          },
          "output_type": "display_data"
        }
      ],
      "source": [
        "sns.boxplot(x=df['sqrt_ft'])"
      ]
    },
    {
      "cell_type": "markdown",
      "id": "4facaf08",
      "metadata": {
        "id": "4facaf08"
      },
      "source": [
        "## Garage"
      ]
    },
    {
      "cell_type": "markdown",
      "id": "a752e18e",
      "metadata": {
        "id": "a752e18e"
      },
      "source": [
        "Unclear what garage entries mean, if number of garages, use full code below. This seems unusual though as the modal number is three, and few properties have three garages."
      ]
    },
    {
      "cell_type": "code",
      "execution_count": null,
      "id": "a5d1dc96",
      "metadata": {
        "id": "a5d1dc96"
      },
      "outputs": [],
      "source": [
        "df['garage'] = df['garage'].replace('None', 0) #is this acceptable?"
      ]
    },
    {
      "cell_type": "code",
      "execution_count": null,
      "id": "6eb63541",
      "metadata": {
        "id": "6eb63541"
      },
      "outputs": [],
      "source": [
        "df['garage'] = df['garage'].astype('float')"
      ]
    },
    {
      "cell_type": "code",
      "execution_count": null,
      "id": "7c1a4177",
      "metadata": {
        "id": "7c1a4177"
      },
      "outputs": [],
      "source": [
        "df['garage'] = df['garage'].apply(np.floor)"
      ]
    },
    {
      "cell_type": "code",
      "execution_count": null,
      "id": "26cf4c0c",
      "metadata": {
        "id": "26cf4c0c"
      },
      "outputs": [],
      "source": [
        "df['garage'] = df['garage'].astype('int')"
      ]
    },
    {
      "cell_type": "code",
      "execution_count": null,
      "id": "62b6421d",
      "metadata": {
        "scrolled": true,
        "id": "62b6421d",
        "outputId": "528740d5-3aff-4ab8-86ae-911957b844ef"
      },
      "outputs": [
        {
          "data": {
            "text/plain": [
              "<AxesSubplot:xlabel='garage', ylabel='Count'>"
            ]
          },
          "execution_count": 147,
          "metadata": {},
          "output_type": "execute_result"
        },
        {
          "data": {
            "image/png": "[encoded data removed]",
            "text/plain": [
              "<Figure size 432x288 with 1 Axes>"
            ]
          },
          "metadata": {
            "needs_background": "light"
          },
          "output_type": "display_data"
        }
      ],
      "source": [
        "sns.histplot(x=df['garage'])"
      ]
    },
    {
      "cell_type": "code",
      "execution_count": null,
      "id": "1c5634dc",
      "metadata": {
        "id": "1c5634dc"
      },
      "outputs": [],
      "source": [
        ""
      ]
    },
    {
      "cell_type": "markdown",
      "id": "352dcc8e",
      "metadata": {
        "id": "352dcc8e"
      },
      "source": [
        "## Fireplaces"
      ]
    },
    {
      "cell_type": "code",
      "execution_count": null,
      "id": "3d0962b5",
      "metadata": {
        "id": "3d0962b5",
        "outputId": "a0eda73b-65d6-49b1-c9a9-a9703ef6305b"
      },
      "outputs": [
        {
          "data": {
            "text/plain": [
              "<AxesSubplot:xlabel='fireplaces', ylabel='Count'>"
            ]
          },
          "execution_count": 148,
          "metadata": {},
          "output_type": "execute_result"
        },
        {
          "data": {
            "image/png": "[encoded data removed]",
            "text/plain": [
              "<Figure size 432x288 with 1 Axes>"
            ]
          },
          "metadata": {
            "needs_background": "light"
          },
          "output_type": "display_data"
        }
      ],
      "source": [
        "sns.histplot(x=df['fireplaces'])"
      ]
    },
    {
      "cell_type": "markdown",
      "id": "f0747157",
      "metadata": {
        "id": "f0747157"
      },
      "source": [
        "Probably safe to assume none means zero."
      ]
    },
    {
      "cell_type": "code",
      "execution_count": null,
      "id": "f853905f",
      "metadata": {
        "id": "f853905f"
      },
      "outputs": [],
      "source": [
        "df['fireplaces'] = df['fireplaces'].fillna(0)"
      ]
    },
    {
      "cell_type": "code",
      "execution_count": null,
      "id": "90a400b8",
      "metadata": {
        "id": "90a400b8",
        "outputId": "59b66c8e-d404-49e6-eb8d-173e116cb21a"
      },
      "outputs": [
        {
          "name": "stdout",
          "output_type": "stream",
          "text": [
            "<class 'pandas.core.frame.DataFrame'>\n",
            "Int64Index: 4986 entries, 0 to 4999\n",
            "Data columns (total 16 columns):\n",
            " #   Column            Non-Null Count  Dtype  \n",
            "---  ------            --------------  -----  \n",
            " 0   MLS               4986 non-null   int64  \n",
            " 1   sold_price        4986 non-null   float64\n",
            " 2   zipcode           4986 non-null   int64  \n",
            " 3   longitude         4986 non-null   float64\n",
            " 4   latitude          4986 non-null   float64\n",
            " 5   lot_acres         4986 non-null   float64\n",
            " 6   taxes             4986 non-null   float64\n",
            " 7   year_built        4986 non-null   int64  \n",
            " 8   bedrooms          4986 non-null   int64  \n",
            " 9   bathrooms         4986 non-null   int32  \n",
            " 10  sqrt_ft           4986 non-null   float64\n",
            " 11  garage            4986 non-null   int32  \n",
            " 12  kitchen_features  4986 non-null   object \n",
            " 13  fireplaces        4986 non-null   float64\n",
            " 14  floor_covering    4986 non-null   object \n",
            " 15  HOA               4986 non-null   object \n",
            "dtypes: float64(7), int32(2), int64(4), object(3)\n",
            "memory usage: 752.3+ KB\n"
          ]
        }
      ],
      "source": [
        "df.info()"
      ]
    },
    {
      "cell_type": "markdown",
      "id": "66baac95",
      "metadata": {
        "id": "66baac95"
      },
      "source": [
        "## HOA"
      ]
    },
    {
      "cell_type": "markdown",
      "id": "d3339d30",
      "metadata": {
        "id": "d3339d30"
      },
      "source": [
        "This column has been dropped, its reference is non-numeric (which homeowner association), but there are far too many for one-hot encoding."
      ]
    },
    {
      "cell_type": "code",
      "execution_count": null,
      "id": "e09df55f",
      "metadata": {
        "id": "e09df55f"
      },
      "outputs": [],
      "source": [
        "df = df.drop(['HOA'], axis = 1)"
      ]
    },
    {
      "cell_type": "markdown",
      "id": "c5903859",
      "metadata": {
        "id": "c5903859"
      },
      "source": [
        "## One Hot Encoding \n",
        "\n",
        "I chose not to encapsulate code due to differences across columns. I cut features aggressively due to computational expense of one-hot encoding. Including columns for very sparse features is often wasteful.\n",
        "\n",
        "### Kitchen Features"
      ]
    },
    {
      "cell_type": "code",
      "execution_count": null,
      "id": "9b3614e2",
      "metadata": {
        "id": "9b3614e2"
      },
      "outputs": [],
      "source": [
        "features_dict = {}\n",
        "for entry in df['kitchen_features']:\n",
        "    entry = entry.split(',')\n",
        "    for string in entry:\n",
        "        string = string.strip()\n",
        "        for index, character in enumerate(string):\n",
        "            if character == ':':\n",
        "                string = string[:index]\n",
        "        if string not in features_dict.keys():\n",
        "            features_dict[string] = 1\n",
        "        else:\n",
        "            features_dict[string] += 1\n",
        "            \n",
        "del features_dict['Appliance Color']"
      ]
    },
    {
      "cell_type": "code",
      "execution_count": null,
      "id": "57d26f08",
      "metadata": {
        "scrolled": true,
        "id": "57d26f08",
        "outputId": "596c5887-793d-4111-9c68-730b6e9c6102"
      },
      "outputs": [
        {
          "data": {
            "text/plain": [
              "{'Dishwasher': 4845,\n",
              " 'Freezer': 394,\n",
              " 'Refrigerator': 4221,\n",
              " 'Oven': 3961,\n",
              " 'Garbage Disposal': 4510,\n",
              " 'Double Sink': 1153,\n",
              " 'Pantry': 1451,\n",
              " 'Microwave': 3614,\n",
              " 'Compactor': 431,\n",
              " 'Electric Range': 396,\n",
              " 'Island': 1248,\n",
              " 'Countertops': 1471,\n",
              " 'Gas Range': 1302,\n",
              " 'Prep Sink': 303,\n",
              " 'Desk': 327,\n",
              " 'Warming Drawer': 217,\n",
              " 'Lazy Susan': 329,\n",
              " 'Indoor Grill': 52,\n",
              " 'Wet Bar': 232,\n",
              " 'Water Purifier': 167,\n",
              " 'Reverse Osmosis': 218,\n",
              " 'Missing': 23,\n",
              " 'None': 33,\n",
              " 'Quartzite': 1,\n",
              " 'Butch Block': 1,\n",
              " '# of Ovens': 2,\n",
              " 'Electric Oven': 3,\n",
              " 'Gas Cooktop': 5,\n",
              " 'Wine Cooler': 2,\n",
              " 'Tile': 2,\n",
              " 'GE': 1,\n",
              " 'Electric': 1,\n",
              " 'above Oven': 1,\n",
              " 'Black': 1,\n",
              " 'tile': 1,\n",
              " 'Convection Oven': 1,\n",
              " 'Built In': 1,\n",
              " 'Built in': 1,\n",
              " 'Stainless': 1,\n",
              " 'convection': 2}"
            ]
          },
          "execution_count": 181,
          "metadata": {},
          "output_type": "execute_result"
        }
      ],
      "source": [
        "features_dict"
      ]
    },
    {
      "cell_type": "code",
      "execution_count": null,
      "id": "1361bcad",
      "metadata": {
        "id": "1361bcad"
      },
      "outputs": [],
      "source": [
        "del_list = []\n",
        "for key, val in features_dict.items():\n",
        "    if val < 1000:\n",
        "        del_list.append(key)\n",
        "for key in del_list:\n",
        "    del features_dict[key]"
      ]
    },
    {
      "cell_type": "code",
      "execution_count": null,
      "id": "5ba34205",
      "metadata": {
        "id": "5ba34205",
        "outputId": "42a9ba4c-94e9-46fd-a4b0-a144885b86a4"
      },
      "outputs": [
        {
          "data": {
            "text/plain": [
              "{'Dishwasher': 4845,\n",
              " 'Refrigerator': 4221,\n",
              " 'Oven': 3961,\n",
              " 'Garbage Disposal': 4510,\n",
              " 'Double Sink': 1153,\n",
              " 'Pantry': 1451,\n",
              " 'Microwave': 3614,\n",
              " 'Island': 1248,\n",
              " 'Countertops': 1471,\n",
              " 'Gas Range': 1302}"
            ]
          },
          "execution_count": 183,
          "metadata": {},
          "output_type": "execute_result"
        }
      ],
      "source": [
        "features_dict"
      ]
    },
    {
      "cell_type": "code",
      "execution_count": null,
      "id": "4f5dc658",
      "metadata": {
        "id": "4f5dc658",
        "outputId": "fbf917e2-7ff7-4643-aa5c-59d5102d4803"
      },
      "outputs": [
        {
          "data": {
            "text/plain": [
              "'Dishwasher, Freezer, Refrigerator, Oven'"
            ]
          },
          "execution_count": 158,
          "metadata": {},
          "output_type": "execute_result"
        }
      ],
      "source": [
        "df['kitchen_features'][0]"
      ]
    },
    {
      "cell_type": "markdown",
      "id": "0e68f335",
      "metadata": {
        "id": "0e68f335"
      },
      "source": [
        "### Floor Covering"
      ]
    },
    {
      "cell_type": "code",
      "execution_count": null,
      "id": "656f6c37",
      "metadata": {
        "id": "656f6c37"
      },
      "outputs": [],
      "source": [
        "features_dict = {}\n",
        "for entry in df['floor_covering']:\n",
        "    entry = entry.split(',')\n",
        "    for string in entry:\n",
        "        string = string.strip()\n",
        "        for index, character in enumerate(string):\n",
        "            if character == ':':\n",
        "                string = string[:index]\n",
        "        if string not in features_dict.keys():\n",
        "            features_dict[string] = 1\n",
        "        else:\n",
        "            features_dict[string] += 1"
      ]
    },
    {
      "cell_type": "code",
      "execution_count": null,
      "id": "2eeae433",
      "metadata": {
        "id": "2eeae433",
        "outputId": "3e7742b6-0a72-44b6-d980-db61f1cad0f8"
      },
      "outputs": [
        {
          "data": {
            "text/plain": [
              "{'Mexican Tile': 657,\n",
              " 'Wood': 1233,\n",
              " 'Natural Stone': 1496,\n",
              " 'Other': 494,\n",
              " 'Ceramic Tile': 2517,\n",
              " 'Laminate': 79,\n",
              " 'Carpet': 3500,\n",
              " 'Concrete': 751,\n",
              " 'Vinyl': 56,\n",
              " 'Granite': 1,\n",
              " 'Indoor/Outdoor': 8,\n",
              " 'None': 1}"
            ]
          },
          "execution_count": 186,
          "metadata": {},
          "output_type": "execute_result"
        }
      ],
      "source": [
        "features_dict"
      ]
    },
    {
      "cell_type": "code",
      "execution_count": null,
      "id": "73394dbb",
      "metadata": {
        "id": "73394dbb"
      },
      "outputs": [],
      "source": [
        "del_list = []\n",
        "for key, val in features_dict.items():\n",
        "    if val < 400:\n",
        "        del_list.append(key)\n",
        "for key in del_list:\n",
        "    del features_dict[key]"
      ]
    },
    {
      "cell_type": "code",
      "execution_count": null,
      "id": "bbecbafa",
      "metadata": {
        "id": "bbecbafa",
        "outputId": "4fa759e4-df62-4dac-8917-b607e76f9177"
      },
      "outputs": [
        {
          "data": {
            "text/plain": [
              "{'Mexican Tile': 657,\n",
              " 'Wood': 1233,\n",
              " 'Natural Stone': 1496,\n",
              " 'Other': 494,\n",
              " 'Ceramic Tile': 2517,\n",
              " 'Carpet': 3500,\n",
              " 'Concrete': 751}"
            ]
          },
          "execution_count": 179,
          "metadata": {},
          "output_type": "execute_result"
        }
      ],
      "source": [
        "features_dict"
      ]
    },
    {
      "cell_type": "markdown",
      "id": "f0ac834a",
      "metadata": {
        "id": "f0ac834a"
      },
      "source": [
        "## Heatmap"
      ]
    },
    {
      "cell_type": "code",
      "execution_count": null,
      "id": "4c0c6b20",
      "metadata": {
        "scrolled": true,
        "id": "4c0c6b20",
        "outputId": "7297af4b-8888-4d75-da8a-671f347d1b85"
      },
      "outputs": [
        {
          "data": {
            "text/plain": [
              "<AxesSubplot:>"
            ]
          },
          "execution_count": 163,
          "metadata": {},
          "output_type": "execute_result"
        },
        {
          "data": {
            "image/png": "[encoded data removed]",
            "text/plain": [
              "<Figure size 432x288 with 2 Axes>"
            ]
          },
          "metadata": {
            "needs_background": "light"
          },
          "output_type": "display_data"
        }
      ],
      "source": [
        "corr = df2.corr()\n",
        "sns.heatmap(corr)"
      ]
    },
    {
      "cell_type": "markdown",
      "id": "c6c96070",
      "metadata": {
        "id": "c6c96070"
      },
      "source": [
        "## Statistics"
      ]
    },
    {
      "cell_type": "code",
      "execution_count": null,
      "id": "814a75cd",
      "metadata": {
        "id": "814a75cd"
      },
      "outputs": [],
      "source": [
        "df2 = df[['sold_price', 'lot_acres', 'taxes', 'year_built', 'bedrooms', 'bathrooms', 'sqrt_ft', 'garage', 'fireplaces']]"
      ]
    },
    {
      "cell_type": "code",
      "execution_count": null,
      "id": "8b8d4da0",
      "metadata": {
        "id": "8b8d4da0",
        "outputId": "10205741-79ca-494a-b51e-d05189f90fbd"
      },
      "outputs": [
        {
          "data": {
            "text/plain": [
              "sold_price    1.016742e+11\n",
              "lot_acres     2.672677e+03\n",
              "taxes         1.263349e+07\n",
              "year_built    3.126766e+02\n",
              "bedrooms      1.140645e+00\n",
              "bathrooms     1.555123e+00\n",
              "sqrt_ft       1.107953e+06\n",
              "garage        1.434472e+00\n",
              "fireplaces    1.300164e+00\n",
              "dtype: float64"
            ]
          },
          "execution_count": 171,
          "metadata": {},
          "output_type": "execute_result"
        }
      ],
      "source": [
        "df2.var()"
      ]
    },
    {
      "cell_type": "code",
      "execution_count": null,
      "id": "4b4fa0c4",
      "metadata": {
        "id": "4b4fa0c4",
        "outputId": "cc910876-3325-4516-ed81-114907d3bcab"
      },
      "outputs": [
        {
          "data": {
            "text/plain": [
              "sold_price     3.791446\n",
              "lot_acres     31.424998\n",
              "taxes          1.785330\n",
              "year_built    -1.633609\n",
              "bedrooms       7.202649\n",
              "bathrooms      7.764916\n",
              "sqrt_ft        2.077719\n",
              "garage         4.904342\n",
              "fireplaces     0.917299\n",
              "dtype: float64"
            ]
          },
          "execution_count": 172,
          "metadata": {},
          "output_type": "execute_result"
        }
      ],
      "source": [
        "df2.skew()"
      ]
    },
    {
      "cell_type": "code",
      "execution_count": null,
      "id": "bda457a4",
      "metadata": {
        "scrolled": true,
        "id": "bda457a4",
        "outputId": "a38f5d01-348c-411b-9177-284628ab0327"
      },
      "outputs": [
        {
          "data": {
            "text/plain": [
              "sold_price      26.454092\n",
              "lot_acres     1112.676538\n",
              "taxes            6.379936\n",
              "year_built       3.565899\n",
              "bedrooms       180.124979\n",
              "bathrooms      173.168435\n",
              "sqrt_ft          9.279542\n",
              "garage          83.053501\n",
              "fireplaces       1.598456\n",
              "dtype: float64"
            ]
          },
          "execution_count": 173,
          "metadata": {},
          "output_type": "execute_result"
        }
      ],
      "source": [
        "df2.kurt()"
      ]
    },
    {
      "cell_type": "code",
      "execution_count": null,
      "id": "525ec24b",
      "metadata": {
        "id": "525ec24b"
      },
      "outputs": [],
      "source": [
        ""
      ]
    },
    {
      "cell_type": "code",
      "execution_count": null,
      "id": "e42daeed",
      "metadata": {
        "id": "e42daeed"
      },
      "outputs": [],
      "source": [
        ""
      ]
    },
    {
      "cell_type": "code",
      "execution_count": null,
      "id": "d639ce28",
      "metadata": {
        "id": "d639ce28"
      },
      "outputs": [],
      "source": [
        ""
      ]
    },
    {
      "cell_type": "code",
      "execution_count": null,
      "id": "5fdbe55e",
      "metadata": {
        "id": "5fdbe55e"
      },
      "outputs": [],
      "source": [
        ""
      ]
    },
    {
      "cell_type": "code",
      "execution_count": null,
      "id": "60356934",
      "metadata": {
        "id": "60356934"
      },
      "outputs": [],
      "source": [
        ""
      ]
    },
    {
      "cell_type": "code",
      "execution_count": null,
      "id": "906541ee",
      "metadata": {
        "id": "906541ee"
      },
      "outputs": [],
      "source": [
        ""
      ]
    },
    {
      "cell_type": "code",
      "execution_count": null,
      "id": "c448e05a",
      "metadata": {
        "id": "c448e05a"
      },
      "outputs": [],
      "source": [
        ""
      ]
    },
    {
      "cell_type": "code",
      "execution_count": null,
      "id": "46c33021",
      "metadata": {
        "id": "46c33021"
      },
      "outputs": [],
      "source": [
        ""
      ]
    },
    {
      "cell_type": "code",
      "execution_count": null,
      "id": "612e5977",
      "metadata": {
        "id": "612e5977"
      },
      "outputs": [],
      "source": [
        ""
      ]
    },
    {
      "cell_type": "code",
      "execution_count": null,
      "id": "65439f66",
      "metadata": {
        "id": "65439f66"
      },
      "outputs": [],
      "source": [
        ""
      ]
    },
    {
      "cell_type": "code",
      "execution_count": null,
      "id": "3f9a5c04",
      "metadata": {
        "id": "3f9a5c04"
      },
      "outputs": [],
      "source": [
        ""
      ]
    },
    {
      "cell_type": "code",
      "execution_count": null,
      "id": "629ebb0b",
      "metadata": {
        "id": "629ebb0b"
      },
      "outputs": [],
      "source": [
        ""
      ]
    },
    {
      "cell_type": "code",
      "execution_count": null,
      "id": "7fc5b88b",
      "metadata": {
        "id": "7fc5b88b"
      },
      "outputs": [],
      "source": [
        ""
      ]
    }
  ],
  "metadata": {
    "kernelspec": {
      "display_name": "Python 3 (ipykernel)",
      "language": "python",
      "name": "python3"
    },
    "language_info": {
      "codemirror_mode": {
        "name": "ipython",
        "version": 3
      },
      "file_extension": ".py",
      "mimetype": "text/x-python",
      "name": "python",
      "nbconvert_exporter": "python",
      "pygments_lexer": "ipython3",
      "version": "3.9.12"
    },
    "colab": {
      "name": "raw_house_data_cleaning.ipynb",
      "provenance": [],
      "include_colab_link": true
    }
  },
  "nbformat": 4,
  "nbformat_minor": 5
}